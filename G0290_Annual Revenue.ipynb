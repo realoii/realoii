{
 "cells": [
  {
   "cell_type": "markdown",
   "metadata": {},
   "source": [
    "File name needs to be updated"
   ]
  },
  {
   "cell_type": "code",
   "execution_count": 1,
   "metadata": {},
   "outputs": [],
   "source": [
    "import pandas as pd\n",
    "from IPython.display import display\n",
    "import re\n",
    "from datetime import datetime\n",
    "import matplotlib.pyplot as plt\n",
    "# read file\n",
    "df = pd.read_csv('C:/Users/yali.li/Documents/LIMS_Query/Urea_Revenue/01-07_Urea.csv',sep = ',', header = None, encoding = 'unicode_escape') \n",
    "#add header \n",
    "df.columns = ['WO#', 'Company', 'Customer', 'Quantity', 'Unit_Price', 'Discount', 'Revenue', 'Time', 'Priority', 'Item_Code', 'Billing_Desc', 'Invoice_Data', 'Data_Created', 'Territory', 'Location','Lab', 'Salesperson']\n"
   ]
  },
  {
   "cell_type": "code",
   "execution_count": 2,
   "metadata": {},
   "outputs": [
    {
     "name": "stdout",
     "output_type": "stream",
     "text": [
      "<class 'pandas.core.frame.DataFrame'>\n",
      "RangeIndex: 108 entries, 0 to 107\n",
      "Data columns (total 17 columns):\n",
      " #   Column        Non-Null Count  Dtype  \n",
      "---  ------        --------------  -----  \n",
      " 0   WO#           108 non-null    object \n",
      " 1   Company       108 non-null    object \n",
      " 2   Customer      108 non-null    object \n",
      " 3   Quantity      108 non-null    int64  \n",
      " 4   Unit_Price    108 non-null    int64  \n",
      " 5   Discount      108 non-null    int64  \n",
      " 6   Revenue       108 non-null    float64\n",
      " 7   Time          108 non-null    object \n",
      " 8   Priority      108 non-null    object \n",
      " 9   Item_Code     108 non-null    object \n",
      " 10  Billing_Desc  108 non-null    object \n",
      " 11  Invoice_Data  108 non-null    object \n",
      " 12  Data_Created  108 non-null    object \n",
      " 13  Territory     108 non-null    object \n",
      " 14  Location      108 non-null    object \n",
      " 15  Lab           108 non-null    object \n",
      " 16  Salesperson   108 non-null    object \n",
      "dtypes: float64(1), int64(3), object(13)\n",
      "memory usage: 14.5+ KB\n"
     ]
    }
   ],
   "source": [
    "df.info()"
   ]
  },
  {
   "cell_type": "code",
   "execution_count": 3,
   "metadata": {},
   "outputs": [
    {
     "data": {
      "text/html": [
       "<div>\n",
       "<style scoped>\n",
       "    .dataframe tbody tr th:only-of-type {\n",
       "        vertical-align: middle;\n",
       "    }\n",
       "\n",
       "    .dataframe tbody tr th {\n",
       "        vertical-align: top;\n",
       "    }\n",
       "\n",
       "    .dataframe thead th {\n",
       "        text-align: right;\n",
       "    }\n",
       "</style>\n",
       "<table border=\"1\" class=\"dataframe\">\n",
       "  <thead>\n",
       "    <tr style=\"text-align: right;\">\n",
       "      <th></th>\n",
       "      <th>WO#</th>\n",
       "      <th>Company</th>\n",
       "      <th>Customer</th>\n",
       "      <th>Quantity</th>\n",
       "      <th>Unit_Price</th>\n",
       "      <th>Discount</th>\n",
       "      <th>Revenue</th>\n",
       "      <th>Time</th>\n",
       "      <th>Priority</th>\n",
       "      <th>Item_Code</th>\n",
       "      <th>Billing_Desc</th>\n",
       "      <th>Invoice_Data</th>\n",
       "      <th>Data_Created</th>\n",
       "      <th>Territory</th>\n",
       "      <th>Location</th>\n",
       "      <th>Lab</th>\n",
       "      <th>Salesperson</th>\n",
       "    </tr>\n",
       "  </thead>\n",
       "  <tbody>\n",
       "    <tr>\n",
       "      <th>0</th>\n",
       "      <td>22-04595</td>\n",
       "      <td>SUEZ WTS SOLUTIONS USA INC</td>\n",
       "      <td>PAUL MUELLER</td>\n",
       "      <td>1</td>\n",
       "      <td>289</td>\n",
       "      <td>0</td>\n",
       "      <td>289.0</td>\n",
       "      <td>EA</td>\n",
       "      <td>N</td>\n",
       "      <td>G0290-GCL-N-R</td>\n",
       "      <td>Urea Analysis in UPW</td>\n",
       "      <td>5/17/2022 0:00</td>\n",
       "      <td>4/20/2022 10:06</td>\n",
       "      <td>MIDW</td>\n",
       "      <td>FREMONT</td>\n",
       "      <td>ORGANIC</td>\n",
       "      <td>JERRY.SMITH</td>\n",
       "    </tr>\n",
       "    <tr>\n",
       "      <th>1</th>\n",
       "      <td>22-04595</td>\n",
       "      <td>SUEZ WTS SOLUTIONS USA INC</td>\n",
       "      <td>PAUL MUELLER</td>\n",
       "      <td>1</td>\n",
       "      <td>289</td>\n",
       "      <td>0</td>\n",
       "      <td>289.0</td>\n",
       "      <td>EA</td>\n",
       "      <td>N</td>\n",
       "      <td>G0290-GCL-N-R</td>\n",
       "      <td>Urea Analysis in UPW</td>\n",
       "      <td>5/17/2022 0:00</td>\n",
       "      <td>4/20/2022 10:06</td>\n",
       "      <td>MIDW</td>\n",
       "      <td>FREMONT</td>\n",
       "      <td>ORGANIC</td>\n",
       "      <td>JERRY.SMITH</td>\n",
       "    </tr>\n",
       "    <tr>\n",
       "      <th>2</th>\n",
       "      <td>22-04595</td>\n",
       "      <td>SUEZ WTS SOLUTIONS USA INC</td>\n",
       "      <td>PAUL MUELLER</td>\n",
       "      <td>1</td>\n",
       "      <td>289</td>\n",
       "      <td>0</td>\n",
       "      <td>289.0</td>\n",
       "      <td>EA</td>\n",
       "      <td>N</td>\n",
       "      <td>G0290-GCL-N-R</td>\n",
       "      <td>Urea Analysis in UPW</td>\n",
       "      <td>5/17/2022 0:00</td>\n",
       "      <td>4/20/2022 10:06</td>\n",
       "      <td>MIDW</td>\n",
       "      <td>FREMONT</td>\n",
       "      <td>ORGANIC</td>\n",
       "      <td>JERRY.SMITH</td>\n",
       "    </tr>\n",
       "    <tr>\n",
       "      <th>3</th>\n",
       "      <td>22-04595</td>\n",
       "      <td>SUEZ WTS SOLUTIONS USA INC</td>\n",
       "      <td>PAUL MUELLER</td>\n",
       "      <td>1</td>\n",
       "      <td>289</td>\n",
       "      <td>0</td>\n",
       "      <td>289.0</td>\n",
       "      <td>EA</td>\n",
       "      <td>N</td>\n",
       "      <td>G0290-GCL-N-R</td>\n",
       "      <td>Urea Analysis in UPW</td>\n",
       "      <td>5/17/2022 0:00</td>\n",
       "      <td>4/20/2022 10:06</td>\n",
       "      <td>MIDW</td>\n",
       "      <td>FREMONT</td>\n",
       "      <td>ORGANIC</td>\n",
       "      <td>JERRY.SMITH</td>\n",
       "    </tr>\n",
       "    <tr>\n",
       "      <th>4</th>\n",
       "      <td>22-04595</td>\n",
       "      <td>SUEZ WTS SOLUTIONS USA INC</td>\n",
       "      <td>PAUL MUELLER</td>\n",
       "      <td>1</td>\n",
       "      <td>289</td>\n",
       "      <td>0</td>\n",
       "      <td>289.0</td>\n",
       "      <td>EA</td>\n",
       "      <td>N</td>\n",
       "      <td>G0290-GCL-N-R</td>\n",
       "      <td>Urea Analysis in UPW</td>\n",
       "      <td>5/17/2022 0:00</td>\n",
       "      <td>4/20/2022 10:06</td>\n",
       "      <td>MIDW</td>\n",
       "      <td>FREMONT</td>\n",
       "      <td>ORGANIC</td>\n",
       "      <td>JERRY.SMITH</td>\n",
       "    </tr>\n",
       "  </tbody>\n",
       "</table>\n",
       "</div>"
      ],
      "text/plain": [
       "        WO#                     Company      Customer  Quantity  Unit_Price  \\\n",
       "0  22-04595  SUEZ WTS SOLUTIONS USA INC  PAUL MUELLER         1         289   \n",
       "1  22-04595  SUEZ WTS SOLUTIONS USA INC  PAUL MUELLER         1         289   \n",
       "2  22-04595  SUEZ WTS SOLUTIONS USA INC  PAUL MUELLER         1         289   \n",
       "3  22-04595  SUEZ WTS SOLUTIONS USA INC  PAUL MUELLER         1         289   \n",
       "4  22-04595  SUEZ WTS SOLUTIONS USA INC  PAUL MUELLER         1         289   \n",
       "\n",
       "   Discount  Revenue Time Priority      Item_Code          Billing_Desc  \\\n",
       "0         0    289.0   EA        N  G0290-GCL-N-R  Urea Analysis in UPW   \n",
       "1         0    289.0   EA        N  G0290-GCL-N-R  Urea Analysis in UPW   \n",
       "2         0    289.0   EA        N  G0290-GCL-N-R  Urea Analysis in UPW   \n",
       "3         0    289.0   EA        N  G0290-GCL-N-R  Urea Analysis in UPW   \n",
       "4         0    289.0   EA        N  G0290-GCL-N-R  Urea Analysis in UPW   \n",
       "\n",
       "     Invoice_Data     Data_Created Territory Location      Lab  Salesperson  \n",
       "0  5/17/2022 0:00  4/20/2022 10:06      MIDW  FREMONT  ORGANIC  JERRY.SMITH  \n",
       "1  5/17/2022 0:00  4/20/2022 10:06      MIDW  FREMONT  ORGANIC  JERRY.SMITH  \n",
       "2  5/17/2022 0:00  4/20/2022 10:06      MIDW  FREMONT  ORGANIC  JERRY.SMITH  \n",
       "3  5/17/2022 0:00  4/20/2022 10:06      MIDW  FREMONT  ORGANIC  JERRY.SMITH  \n",
       "4  5/17/2022 0:00  4/20/2022 10:06      MIDW  FREMONT  ORGANIC  JERRY.SMITH  "
      ]
     },
     "execution_count": 3,
     "metadata": {},
     "output_type": "execute_result"
    }
   ],
   "source": [
    "df.head()"
   ]
  },
  {
   "cell_type": "markdown",
   "metadata": {},
   "source": [
    "calculate # of Priority samples"
   ]
  },
  {
   "cell_type": "code",
   "execution_count": 4,
   "metadata": {},
   "outputs": [
    {
     "name": "stdout",
     "output_type": "stream",
     "text": [
      "The number of priority samples is:  0\n"
     ]
    }
   ],
   "source": [
    "df_Priority = df[df['Billing_Desc'].str.match(\"Priority\", flags=re.IGNORECASE)] #flags means it is case insensitive\n",
    "Priority_Sample = df_Priority['Quantity'].sum()\n",
    "print('The number of priority samples is: ', Priority_Sample)"
   ]
  },
  {
   "cell_type": "markdown",
   "metadata": {},
   "source": [
    "Figure out # of companies worked with and respective sample number and revenue"
   ]
  },
  {
   "cell_type": "code",
   "execution_count": 5,
   "metadata": {},
   "outputs": [],
   "source": [
    "#extract month from Invoice_Data column\n",
    "Month=[datetime.strptime(i, '%m/%d/%Y %H:%M').month for i in df['Invoice_Data']]"
   ]
  },
  {
   "cell_type": "code",
   "execution_count": 6,
   "metadata": {},
   "outputs": [
    {
     "data": {
      "text/html": [
       "<div>\n",
       "<style scoped>\n",
       "    .dataframe tbody tr th:only-of-type {\n",
       "        vertical-align: middle;\n",
       "    }\n",
       "\n",
       "    .dataframe tbody tr th {\n",
       "        vertical-align: top;\n",
       "    }\n",
       "\n",
       "    .dataframe thead th {\n",
       "        text-align: right;\n",
       "    }\n",
       "</style>\n",
       "<table border=\"1\" class=\"dataframe\">\n",
       "  <thead>\n",
       "    <tr style=\"text-align: right;\">\n",
       "      <th></th>\n",
       "      <th>WO#</th>\n",
       "      <th>Company</th>\n",
       "      <th>Customer</th>\n",
       "      <th>Quantity</th>\n",
       "      <th>Unit_Price</th>\n",
       "      <th>Discount</th>\n",
       "      <th>Revenue</th>\n",
       "      <th>Time</th>\n",
       "      <th>Priority</th>\n",
       "      <th>Item_Code</th>\n",
       "      <th>Billing_Desc</th>\n",
       "      <th>Invoice_Data</th>\n",
       "      <th>Data_Created</th>\n",
       "      <th>Territory</th>\n",
       "      <th>Location</th>\n",
       "      <th>Lab</th>\n",
       "      <th>Salesperson</th>\n",
       "      <th>Month</th>\n",
       "    </tr>\n",
       "  </thead>\n",
       "  <tbody>\n",
       "    <tr>\n",
       "      <th>0</th>\n",
       "      <td>22-04595</td>\n",
       "      <td>SUEZ WTS SOLUTIONS USA INC</td>\n",
       "      <td>PAUL MUELLER</td>\n",
       "      <td>1</td>\n",
       "      <td>289</td>\n",
       "      <td>0</td>\n",
       "      <td>289.0</td>\n",
       "      <td>EA</td>\n",
       "      <td>N</td>\n",
       "      <td>G0290-GCL-N-R</td>\n",
       "      <td>Urea Analysis in UPW</td>\n",
       "      <td>5/17/2022 0:00</td>\n",
       "      <td>4/20/2022 10:06</td>\n",
       "      <td>MIDW</td>\n",
       "      <td>FREMONT</td>\n",
       "      <td>ORGANIC</td>\n",
       "      <td>JERRY.SMITH</td>\n",
       "      <td>5</td>\n",
       "    </tr>\n",
       "    <tr>\n",
       "      <th>1</th>\n",
       "      <td>22-04595</td>\n",
       "      <td>SUEZ WTS SOLUTIONS USA INC</td>\n",
       "      <td>PAUL MUELLER</td>\n",
       "      <td>1</td>\n",
       "      <td>289</td>\n",
       "      <td>0</td>\n",
       "      <td>289.0</td>\n",
       "      <td>EA</td>\n",
       "      <td>N</td>\n",
       "      <td>G0290-GCL-N-R</td>\n",
       "      <td>Urea Analysis in UPW</td>\n",
       "      <td>5/17/2022 0:00</td>\n",
       "      <td>4/20/2022 10:06</td>\n",
       "      <td>MIDW</td>\n",
       "      <td>FREMONT</td>\n",
       "      <td>ORGANIC</td>\n",
       "      <td>JERRY.SMITH</td>\n",
       "      <td>5</td>\n",
       "    </tr>\n",
       "    <tr>\n",
       "      <th>2</th>\n",
       "      <td>22-04595</td>\n",
       "      <td>SUEZ WTS SOLUTIONS USA INC</td>\n",
       "      <td>PAUL MUELLER</td>\n",
       "      <td>1</td>\n",
       "      <td>289</td>\n",
       "      <td>0</td>\n",
       "      <td>289.0</td>\n",
       "      <td>EA</td>\n",
       "      <td>N</td>\n",
       "      <td>G0290-GCL-N-R</td>\n",
       "      <td>Urea Analysis in UPW</td>\n",
       "      <td>5/17/2022 0:00</td>\n",
       "      <td>4/20/2022 10:06</td>\n",
       "      <td>MIDW</td>\n",
       "      <td>FREMONT</td>\n",
       "      <td>ORGANIC</td>\n",
       "      <td>JERRY.SMITH</td>\n",
       "      <td>5</td>\n",
       "    </tr>\n",
       "    <tr>\n",
       "      <th>3</th>\n",
       "      <td>22-04595</td>\n",
       "      <td>SUEZ WTS SOLUTIONS USA INC</td>\n",
       "      <td>PAUL MUELLER</td>\n",
       "      <td>1</td>\n",
       "      <td>289</td>\n",
       "      <td>0</td>\n",
       "      <td>289.0</td>\n",
       "      <td>EA</td>\n",
       "      <td>N</td>\n",
       "      <td>G0290-GCL-N-R</td>\n",
       "      <td>Urea Analysis in UPW</td>\n",
       "      <td>5/17/2022 0:00</td>\n",
       "      <td>4/20/2022 10:06</td>\n",
       "      <td>MIDW</td>\n",
       "      <td>FREMONT</td>\n",
       "      <td>ORGANIC</td>\n",
       "      <td>JERRY.SMITH</td>\n",
       "      <td>5</td>\n",
       "    </tr>\n",
       "    <tr>\n",
       "      <th>4</th>\n",
       "      <td>22-04595</td>\n",
       "      <td>SUEZ WTS SOLUTIONS USA INC</td>\n",
       "      <td>PAUL MUELLER</td>\n",
       "      <td>1</td>\n",
       "      <td>289</td>\n",
       "      <td>0</td>\n",
       "      <td>289.0</td>\n",
       "      <td>EA</td>\n",
       "      <td>N</td>\n",
       "      <td>G0290-GCL-N-R</td>\n",
       "      <td>Urea Analysis in UPW</td>\n",
       "      <td>5/17/2022 0:00</td>\n",
       "      <td>4/20/2022 10:06</td>\n",
       "      <td>MIDW</td>\n",
       "      <td>FREMONT</td>\n",
       "      <td>ORGANIC</td>\n",
       "      <td>JERRY.SMITH</td>\n",
       "      <td>5</td>\n",
       "    </tr>\n",
       "  </tbody>\n",
       "</table>\n",
       "</div>"
      ],
      "text/plain": [
       "        WO#                     Company      Customer  Quantity  Unit_Price  \\\n",
       "0  22-04595  SUEZ WTS SOLUTIONS USA INC  PAUL MUELLER         1         289   \n",
       "1  22-04595  SUEZ WTS SOLUTIONS USA INC  PAUL MUELLER         1         289   \n",
       "2  22-04595  SUEZ WTS SOLUTIONS USA INC  PAUL MUELLER         1         289   \n",
       "3  22-04595  SUEZ WTS SOLUTIONS USA INC  PAUL MUELLER         1         289   \n",
       "4  22-04595  SUEZ WTS SOLUTIONS USA INC  PAUL MUELLER         1         289   \n",
       "\n",
       "   Discount  Revenue Time Priority      Item_Code          Billing_Desc  \\\n",
       "0         0    289.0   EA        N  G0290-GCL-N-R  Urea Analysis in UPW   \n",
       "1         0    289.0   EA        N  G0290-GCL-N-R  Urea Analysis in UPW   \n",
       "2         0    289.0   EA        N  G0290-GCL-N-R  Urea Analysis in UPW   \n",
       "3         0    289.0   EA        N  G0290-GCL-N-R  Urea Analysis in UPW   \n",
       "4         0    289.0   EA        N  G0290-GCL-N-R  Urea Analysis in UPW   \n",
       "\n",
       "     Invoice_Data     Data_Created Territory Location      Lab  Salesperson  \\\n",
       "0  5/17/2022 0:00  4/20/2022 10:06      MIDW  FREMONT  ORGANIC  JERRY.SMITH   \n",
       "1  5/17/2022 0:00  4/20/2022 10:06      MIDW  FREMONT  ORGANIC  JERRY.SMITH   \n",
       "2  5/17/2022 0:00  4/20/2022 10:06      MIDW  FREMONT  ORGANIC  JERRY.SMITH   \n",
       "3  5/17/2022 0:00  4/20/2022 10:06      MIDW  FREMONT  ORGANIC  JERRY.SMITH   \n",
       "4  5/17/2022 0:00  4/20/2022 10:06      MIDW  FREMONT  ORGANIC  JERRY.SMITH   \n",
       "\n",
       "   Month  \n",
       "0      5  \n",
       "1      5  \n",
       "2      5  \n",
       "3      5  \n",
       "4      5  "
      ]
     },
     "execution_count": 6,
     "metadata": {},
     "output_type": "execute_result"
    }
   ],
   "source": [
    "#add a column 'Month' to the df\n",
    "df['Month']=Month\n",
    "df.head()"
   ]
  },
  {
   "cell_type": "code",
   "execution_count": 7,
   "metadata": {},
   "outputs": [
    {
     "data": {
      "text/html": [
       "<div>\n",
       "<style scoped>\n",
       "    .dataframe tbody tr th:only-of-type {\n",
       "        vertical-align: middle;\n",
       "    }\n",
       "\n",
       "    .dataframe tbody tr th {\n",
       "        vertical-align: top;\n",
       "    }\n",
       "\n",
       "    .dataframe thead th {\n",
       "        text-align: right;\n",
       "    }\n",
       "</style>\n",
       "<table border=\"1\" class=\"dataframe\">\n",
       "  <thead>\n",
       "    <tr style=\"text-align: right;\">\n",
       "      <th></th>\n",
       "      <th></th>\n",
       "      <th>Quantity</th>\n",
       "      <th>Revenue</th>\n",
       "    </tr>\n",
       "    <tr>\n",
       "      <th>Month</th>\n",
       "      <th>Company</th>\n",
       "      <th></th>\n",
       "      <th></th>\n",
       "    </tr>\n",
       "  </thead>\n",
       "  <tbody>\n",
       "    <tr>\n",
       "      <th rowspan=\"4\" valign=\"top\">5</th>\n",
       "      <th>INTEL CORP</th>\n",
       "      <td>18</td>\n",
       "      <td>4161.60</td>\n",
       "    </tr>\n",
       "    <tr>\n",
       "      <th>OVIVO SWITZERLAND AG</th>\n",
       "      <td>5</td>\n",
       "      <td>1372.75</td>\n",
       "    </tr>\n",
       "    <tr>\n",
       "      <th>SACHEM INC</th>\n",
       "      <td>10</td>\n",
       "      <td>2890.00</td>\n",
       "    </tr>\n",
       "    <tr>\n",
       "      <th>SUEZ WTS SOLUTIONS USA INC</th>\n",
       "      <td>8</td>\n",
       "      <td>2312.00</td>\n",
       "    </tr>\n",
       "    <tr>\n",
       "      <th rowspan=\"4\" valign=\"top\">6</th>\n",
       "      <th>CITY OF MANASSAS</th>\n",
       "      <td>2</td>\n",
       "      <td>578.00</td>\n",
       "    </tr>\n",
       "    <tr>\n",
       "      <th>INTEL CORP</th>\n",
       "      <td>27</td>\n",
       "      <td>6242.40</td>\n",
       "    </tr>\n",
       "    <tr>\n",
       "      <th>SACHEM INC</th>\n",
       "      <td>5</td>\n",
       "      <td>1445.00</td>\n",
       "    </tr>\n",
       "    <tr>\n",
       "      <th>SUEZ WTS SOLUTIONS USA INC</th>\n",
       "      <td>6</td>\n",
       "      <td>1734.00</td>\n",
       "    </tr>\n",
       "    <tr>\n",
       "      <th rowspan=\"4\" valign=\"top\">7</th>\n",
       "      <th>AVANTOR PERFORMANCE MATERIALS LLC</th>\n",
       "      <td>4</td>\n",
       "      <td>1156.00</td>\n",
       "    </tr>\n",
       "    <tr>\n",
       "      <th>INTEL CORP</th>\n",
       "      <td>6</td>\n",
       "      <td>1387.20</td>\n",
       "    </tr>\n",
       "    <tr>\n",
       "      <th>SACHEM INC</th>\n",
       "      <td>5</td>\n",
       "      <td>1445.00</td>\n",
       "    </tr>\n",
       "    <tr>\n",
       "      <th>SUEZ WTS SOLUTIONS USA INC</th>\n",
       "      <td>12</td>\n",
       "      <td>3468.00</td>\n",
       "    </tr>\n",
       "  </tbody>\n",
       "</table>\n",
       "</div>"
      ],
      "text/plain": [
       "                                         Quantity  Revenue\n",
       "Month Company                                             \n",
       "5     INTEL CORP                               18  4161.60\n",
       "      OVIVO SWITZERLAND AG                      5  1372.75\n",
       "      SACHEM INC                               10  2890.00\n",
       "      SUEZ WTS SOLUTIONS USA INC                8  2312.00\n",
       "6     CITY OF MANASSAS                          2   578.00\n",
       "      INTEL CORP                               27  6242.40\n",
       "      SACHEM INC                                5  1445.00\n",
       "      SUEZ WTS SOLUTIONS USA INC                6  1734.00\n",
       "7     AVANTOR PERFORMANCE MATERIALS LLC         4  1156.00\n",
       "      INTEL CORP                                6  1387.20\n",
       "      SACHEM INC                                5  1445.00\n",
       "      SUEZ WTS SOLUTIONS USA INC               12  3468.00"
      ]
     },
     "execution_count": 7,
     "metadata": {},
     "output_type": "execute_result"
    }
   ],
   "source": [
    "#generate a summary table\n",
    "df = df.groupby(['Month','Company']).sum()[['Quantity','Revenue']]\n",
    "df"
   ]
  },
  {
   "cell_type": "code",
   "execution_count": 8,
   "metadata": {},
   "outputs": [
    {
     "data": {
      "text/html": [
       "<div>\n",
       "<style scoped>\n",
       "    .dataframe tbody tr th:only-of-type {\n",
       "        vertical-align: middle;\n",
       "    }\n",
       "\n",
       "    .dataframe tbody tr th {\n",
       "        vertical-align: top;\n",
       "    }\n",
       "\n",
       "    .dataframe thead th {\n",
       "        text-align: right;\n",
       "    }\n",
       "</style>\n",
       "<table border=\"1\" class=\"dataframe\">\n",
       "  <thead>\n",
       "    <tr style=\"text-align: right;\">\n",
       "      <th></th>\n",
       "      <th>Quantity</th>\n",
       "      <th>Revenue</th>\n",
       "    </tr>\n",
       "    <tr>\n",
       "      <th>Month</th>\n",
       "      <th></th>\n",
       "      <th></th>\n",
       "    </tr>\n",
       "  </thead>\n",
       "  <tbody>\n",
       "    <tr>\n",
       "      <th>5</th>\n",
       "      <td>41</td>\n",
       "      <td>10736.35</td>\n",
       "    </tr>\n",
       "    <tr>\n",
       "      <th>6</th>\n",
       "      <td>40</td>\n",
       "      <td>9999.40</td>\n",
       "    </tr>\n",
       "    <tr>\n",
       "      <th>7</th>\n",
       "      <td>27</td>\n",
       "      <td>7456.20</td>\n",
       "    </tr>\n",
       "  </tbody>\n",
       "</table>\n",
       "</div>"
      ],
      "text/plain": [
       "       Quantity   Revenue\n",
       "Month                    \n",
       "5            41  10736.35\n",
       "6            40   9999.40\n",
       "7            27   7456.20"
      ]
     },
     "execution_count": 8,
     "metadata": {},
     "output_type": "execute_result"
    }
   ],
   "source": [
    "#calculate monthly summary\n",
    "df_monthly=df.groupby(['Month']).sum()[['Quantity', 'Revenue']]\n",
    "df_monthly"
   ]
  },
  {
   "cell_type": "code",
   "execution_count": 9,
   "metadata": {},
   "outputs": [
    {
     "data": {
      "text/plain": [
       "28191.95"
      ]
     },
     "execution_count": 9,
     "metadata": {},
     "output_type": "execute_result"
    }
   ],
   "source": [
    "#annual total revenue\n",
    "G0290_Revenue_2022 = df_monthly['Revenue'].sum()\n",
    "G0290_Revenue_2022"
   ]
  },
  {
   "cell_type": "code",
   "execution_count": 10,
   "metadata": {},
   "outputs": [
    {
     "data": {
      "text/plain": [
       "108"
      ]
     },
     "execution_count": 10,
     "metadata": {},
     "output_type": "execute_result"
    }
   ],
   "source": [
    "#annual total # of samples\n",
    "G0290_Samples_2022 = df_monthly['Quantity'].sum()\n",
    "G0290_Samples_2022"
   ]
  },
  {
   "cell_type": "markdown",
   "metadata": {},
   "source": [
    "Further dig into the data, monthly revenue, monthly # of samplels, etc."
   ]
  },
  {
   "cell_type": "code",
   "execution_count": 11,
   "metadata": {},
   "outputs": [
    {
     "data": {
      "image/png": "[encoded data removed]",
      "text/plain": [
       "<Figure size 576x288 with 1 Axes>"
      ]
     },
     "metadata": {
      "needs_background": "light"
     },
     "output_type": "display_data"
    }
   ],
   "source": [
    "plt.figure(figsize = (8,4))\n",
    "plt.bar(df_monthly.index.values, df_monthly['Quantity'],  width=0.2)\n",
    "plt.xticks(df_monthly.index.values)\n",
    "plt.xlabel('Month')\n",
    "plt.ylabel('# of total samples/month')\n",
    "plt.show()"
   ]
  },
  {
   "cell_type": "code",
   "execution_count": 12,
   "metadata": {},
   "outputs": [
    {
     "data": {
      "image/png": "[encoded data removed]",
      "text/plain": [
       "<Figure size 576x288 with 1 Axes>"
      ]
     },
     "metadata": {
      "needs_background": "light"
     },
     "output_type": "display_data"
    }
   ],
   "source": [
    "plt.figure(figsize = (8,4))\n",
    "plt.bar(df_monthly.index.values, df_monthly['Revenue'],  width=0.2)\n",
    "plt.xticks(df_monthly.index.values)\n",
    "plt.xlabel('Month')\n",
    "plt.ylabel('Revenue $/month')\n",
    "plt.show()"
   ]
  }
 ],
 "metadata": {
  "kernelspec": {
   "display_name": "Python 3 (ipykernel)",
   "language": "python",
   "name": "python3"
  },
  "language_info": {
   "codemirror_mode": {
    "name": "ipython",
    "version": 3
   },
   "file_extension": ".py",
   "mimetype": "text/x-python",
   "name": "python",
   "nbconvert_exporter": "python",
   "pygments_lexer": "ipython3",
   "version": "3.9.12"
  }
 },
 "nbformat": 4,
 "nbformat_minor": 2
}
