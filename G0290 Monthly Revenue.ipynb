{
 "cells": [
  {
   "cell_type": "markdown",
   "metadata": {},
   "source": [
    "File name needs to be updated"
   ]
  },
  {
   "cell_type": "code",
   "execution_count": 9,
   "metadata": {},
   "outputs": [
    {
     "name": "stdout",
     "output_type": "stream",
     "text": [
      "The number of priority samples is:  0\n",
      "The number of same day sample is:  0\n"
     ]
    },
    {
     "name": "stderr",
     "output_type": "stream",
     "text": [
      "C:\\Users\\yali.li\\AppData\\Local\\Temp\\ipykernel_12016\\145382284.py:26: FutureWarning: The frame.append method is deprecated and will be removed from pandas in a future version. Use pandas.concat instead.\n",
      "  report = summary.append({'Company' : 'Total', 'Quantity' : Total_Sample, 'Revenue' :Total_Revenue}, ignore_index=True)\n"
     ]
    },
    {
     "data": {
      "text/html": [
       "<div>\n",
       "<style scoped>\n",
       "    .dataframe tbody tr th:only-of-type {\n",
       "        vertical-align: middle;\n",
       "    }\n",
       "\n",
       "    .dataframe tbody tr th {\n",
       "        vertical-align: top;\n",
       "    }\n",
       "\n",
       "    .dataframe thead th {\n",
       "        text-align: right;\n",
       "    }\n",
       "</style>\n",
       "<table border=\"1\" class=\"dataframe\">\n",
       "  <thead>\n",
       "    <tr style=\"text-align: right;\">\n",
       "      <th></th>\n",
       "      <th>Company</th>\n",
       "      <th>Quantity</th>\n",
       "      <th>Revenue</th>\n",
       "      <th>The number of same day sample is</th>\n",
       "      <th>The number of priority sample is</th>\n",
       "      <th>Current month</th>\n",
       "    </tr>\n",
       "  </thead>\n",
       "  <tbody>\n",
       "    <tr>\n",
       "      <th>0</th>\n",
       "      <td>INTEL CORP</td>\n",
       "      <td>18</td>\n",
       "      <td>4161.60</td>\n",
       "      <td>0</td>\n",
       "      <td>0</td>\n",
       "      <td>May</td>\n",
       "    </tr>\n",
       "    <tr>\n",
       "      <th>1</th>\n",
       "      <td>OVIVO SWITZERLAND AG</td>\n",
       "      <td>5</td>\n",
       "      <td>1372.75</td>\n",
       "      <td>0</td>\n",
       "      <td>0</td>\n",
       "      <td>May</td>\n",
       "    </tr>\n",
       "    <tr>\n",
       "      <th>2</th>\n",
       "      <td>SACHEM INC</td>\n",
       "      <td>10</td>\n",
       "      <td>2890.00</td>\n",
       "      <td>0</td>\n",
       "      <td>0</td>\n",
       "      <td>May</td>\n",
       "    </tr>\n",
       "    <tr>\n",
       "      <th>3</th>\n",
       "      <td>SUEZ WTS SOLUTIONS USA INC</td>\n",
       "      <td>8</td>\n",
       "      <td>2312.00</td>\n",
       "      <td>0</td>\n",
       "      <td>0</td>\n",
       "      <td>May</td>\n",
       "    </tr>\n",
       "    <tr>\n",
       "      <th>4</th>\n",
       "      <td>Total</td>\n",
       "      <td>41</td>\n",
       "      <td>10736.35</td>\n",
       "      <td>0</td>\n",
       "      <td>0</td>\n",
       "      <td>May</td>\n",
       "    </tr>\n",
       "  </tbody>\n",
       "</table>\n",
       "</div>"
      ],
      "text/plain": [
       "                      Company  Quantity   Revenue  \\\n",
       "0                  INTEL CORP        18   4161.60   \n",
       "1        OVIVO SWITZERLAND AG         5   1372.75   \n",
       "2                  SACHEM INC        10   2890.00   \n",
       "3  SUEZ WTS SOLUTIONS USA INC         8   2312.00   \n",
       "4                       Total        41  10736.35   \n",
       "\n",
       "   The number of same day sample is  The number of priority sample is  \\\n",
       "0                                 0                                 0   \n",
       "1                                 0                                 0   \n",
       "2                                 0                                 0   \n",
       "3                                 0                                 0   \n",
       "4                                 0                                 0   \n",
       "\n",
       "  Current month  \n",
       "0           May  \n",
       "1           May  \n",
       "2           May  \n",
       "3           May  \n",
       "4           May  "
      ]
     },
     "execution_count": 9,
     "metadata": {},
     "output_type": "execute_result"
    }
   ],
   "source": [
    "import pandas as pd\n",
    "from IPython.display import display\n",
    "import re\n",
    "\n",
    "# read file\n",
    "df = pd.read_csv('C:/Users/yali.li/Documents/LIMS_Query/Urea_Revenue/05_Urea.csv',sep = ',', header = None, encoding = 'unicode_escape') #add header \n",
    "df.columns = ['WO#', 'Company', 'Customer', 'Quantity', 'Unit_Price', 'Discount', 'Total_Price', 'Time', 'Priority', 'Item_Code', 'Billing_Desc', 'Invoice_Data', 'Data_Created', 'Territory', 'Location','Lab', 'Salesperson']\n",
    "\n",
    "# calculate # of Priority and SameDay samples\n",
    "df_Priority = df[df['Billing_Desc'].str.match(\"Priority\", flags=re.IGNORECASE)] \n",
    "df_SameDay = df[df['Billing_Desc'].str.match(\"SAME\", flags=re.IGNORECASE)] #flags means it is case insensitive\n",
    "SameDay_Sample = df_SameDay['Quantity'].sum()\n",
    "Priority_Sample = df_Priority['Quantity'].sum()\n",
    "print('The number of priority samples is: ', Priority_Sample)\n",
    "print('The number of same day sample is: ', SameDay_Sample)\n",
    "\n",
    "#Figure out # of companies worked with and respective sample number and revenue\n",
    "df = df.groupby('Company').sum()[['Quantity','Total_Price']]\n",
    "df.to_csv('C:/Users/yali.li/Documents/LIMS_Query/Urea_Revenue/temp.csv', encoding='utf-8') \n",
    "summary = pd.read_csv(\"C:/Users/yali.li/Documents/LIMS_Query/Urea_Revenue/temp.csv\")\n",
    "summary.columns = ['Company', 'Quantity', 'Revenue']\n",
    "Total_Sample = summary['Quantity'].sum()\n",
    "Total_Revenue = summary['Revenue'].sum()\n",
    "Month = 'May'############month needs update################\n",
    "#Prepare report\n",
    "report = summary.append({'Company' : 'Total', 'Quantity' : Total_Sample, 'Revenue' :Total_Revenue}, ignore_index=True)\n",
    "#report\n",
    "\n",
    "report.insert(3, \"The number of same day sample is\", SameDay_Sample) \n",
    "report.insert(4, \"The number of priority sample is\", Priority_Sample) \n",
    "report.insert(5, 'Current month', Month)\n",
    "\n",
    "#report.head()\n",
    "#report.set_index('Company')\n",
    "#display(report)\n",
    "###########################needs update to month_2022.csv########################\n",
    "report.to_csv(\"C:/Users/yali.li/Documents/LIMS_Query/Urea_Revenue/05_2022.csv\", index = None, encoding='utf-8') \n",
    "report\n"
   ]
  },
  {
   "cell_type": "code",
   "execution_count": null,
   "metadata": {},
   "outputs": [],
   "source": []
  }
 ],
 "metadata": {
  "kernelspec": {
   "display_name": "Python 3 (ipykernel)",
   "language": "python",
   "name": "python3"
  },
  "language_info": {
   "codemirror_mode": {
    "name": "ipython",
    "version": 3
   },
   "file_extension": ".py",
   "mimetype": "text/x-python",
   "name": "python",
   "nbconvert_exporter": "python",
   "pygments_lexer": "ipython3",
   "version": "3.9.12"
  }
 },
 "nbformat": 4,
 "nbformat_minor": 2
}
